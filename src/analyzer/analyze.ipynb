{
 "cells": [
  {
   "cell_type": "code",
   "execution_count": 1,
   "metadata": {
    "collapsed": true,
    "deletable": true,
    "editable": true
   },
   "outputs": [],
   "source": [
    "import count_topics"
   ]
  },
  {
   "cell_type": "code",
   "execution_count": 2,
   "metadata": {
    "collapsed": false,
    "deletable": true,
    "editable": true
   },
   "outputs": [
    {
     "name": "stderr",
     "output_type": "stream",
     "text": [
      "/Users/wataru/.pyenv/versions/3.5.1/envs/ml/lib/python3.5/site-packages/sklearn/utils/validation.py:429: DataConversionWarning: Data with input dtype int64 was converted to float64 by the normalize function.\n",
      "  warnings.warn(msg, _DataConversionWarning)\n"
     ]
    }
   ],
   "source": [
    "dfs = count_topics.get_dfs(datafile='/Users/wataru/tmp/4-8-4-sub.txt')"
   ]
  },
  {
   "cell_type": "code",
   "execution_count": 3,
   "metadata": {
    "collapsed": false,
    "deletable": true,
    "editable": true
   },
   "outputs": [
    {
     "data": {
      "text/html": [
       "<div>\n",
       "<table border=\"1\" class=\"dataframe\">\n",
       "  <thead>\n",
       "    <tr style=\"text-align: right;\">\n",
       "      <th></th>\n",
       "      <th>0</th>\n",
       "      <th>1</th>\n",
       "      <th>2</th>\n",
       "      <th>3</th>\n",
       "      <th>4</th>\n",
       "      <th>5</th>\n",
       "      <th>6</th>\n",
       "      <th>7</th>\n",
       "    </tr>\n",
       "  </thead>\n",
       "  <tbody>\n",
       "    <tr>\n",
       "      <th>count</th>\n",
       "      <td>161.000000</td>\n",
       "      <td>161.000000</td>\n",
       "      <td>161.000000</td>\n",
       "      <td>161.000000</td>\n",
       "      <td>161.000000</td>\n",
       "      <td>161.000000</td>\n",
       "      <td>161.000000</td>\n",
       "      <td>161.000000</td>\n",
       "    </tr>\n",
       "    <tr>\n",
       "      <th>mean</th>\n",
       "      <td>0.123767</td>\n",
       "      <td>0.130791</td>\n",
       "      <td>0.128887</td>\n",
       "      <td>0.123170</td>\n",
       "      <td>0.125794</td>\n",
       "      <td>0.121010</td>\n",
       "      <td>0.124637</td>\n",
       "      <td>0.121944</td>\n",
       "    </tr>\n",
       "    <tr>\n",
       "      <th>std</th>\n",
       "      <td>0.014099</td>\n",
       "      <td>0.017482</td>\n",
       "      <td>0.016311</td>\n",
       "      <td>0.014226</td>\n",
       "      <td>0.013153</td>\n",
       "      <td>0.016262</td>\n",
       "      <td>0.013801</td>\n",
       "      <td>0.011743</td>\n",
       "    </tr>\n",
       "    <tr>\n",
       "      <th>min</th>\n",
       "      <td>0.078885</td>\n",
       "      <td>0.095464</td>\n",
       "      <td>0.091711</td>\n",
       "      <td>0.065512</td>\n",
       "      <td>0.090812</td>\n",
       "      <td>0.077264</td>\n",
       "      <td>0.089552</td>\n",
       "      <td>0.093429</td>\n",
       "    </tr>\n",
       "    <tr>\n",
       "      <th>25%</th>\n",
       "      <td>0.115336</td>\n",
       "      <td>0.119549</td>\n",
       "      <td>0.119001</td>\n",
       "      <td>0.116022</td>\n",
       "      <td>0.117391</td>\n",
       "      <td>0.111382</td>\n",
       "      <td>0.114338</td>\n",
       "      <td>0.115894</td>\n",
       "    </tr>\n",
       "    <tr>\n",
       "      <th>50%</th>\n",
       "      <td>0.123216</td>\n",
       "      <td>0.128300</td>\n",
       "      <td>0.126499</td>\n",
       "      <td>0.124152</td>\n",
       "      <td>0.124733</td>\n",
       "      <td>0.122614</td>\n",
       "      <td>0.123833</td>\n",
       "      <td>0.121716</td>\n",
       "    </tr>\n",
       "    <tr>\n",
       "      <th>75%</th>\n",
       "      <td>0.132416</td>\n",
       "      <td>0.138251</td>\n",
       "      <td>0.137934</td>\n",
       "      <td>0.131326</td>\n",
       "      <td>0.133995</td>\n",
       "      <td>0.131816</td>\n",
       "      <td>0.133808</td>\n",
       "      <td>0.128731</td>\n",
       "    </tr>\n",
       "    <tr>\n",
       "      <th>max</th>\n",
       "      <td>0.176130</td>\n",
       "      <td>0.186813</td>\n",
       "      <td>0.175033</td>\n",
       "      <td>0.162447</td>\n",
       "      <td>0.170787</td>\n",
       "      <td>0.166225</td>\n",
       "      <td>0.160532</td>\n",
       "      <td>0.157097</td>\n",
       "    </tr>\n",
       "  </tbody>\n",
       "</table>\n",
       "</div>"
      ],
      "text/plain": [
       "                0           1           2           3           4           5  \\\n",
       "count  161.000000  161.000000  161.000000  161.000000  161.000000  161.000000   \n",
       "mean     0.123767    0.130791    0.128887    0.123170    0.125794    0.121010   \n",
       "std      0.014099    0.017482    0.016311    0.014226    0.013153    0.016262   \n",
       "min      0.078885    0.095464    0.091711    0.065512    0.090812    0.077264   \n",
       "25%      0.115336    0.119549    0.119001    0.116022    0.117391    0.111382   \n",
       "50%      0.123216    0.128300    0.126499    0.124152    0.124733    0.122614   \n",
       "75%      0.132416    0.138251    0.137934    0.131326    0.133995    0.131816   \n",
       "max      0.176130    0.186813    0.175033    0.162447    0.170787    0.166225   \n",
       "\n",
       "                6           7  \n",
       "count  161.000000  161.000000  \n",
       "mean     0.124637    0.121944  \n",
       "std      0.013801    0.011743  \n",
       "min      0.089552    0.093429  \n",
       "25%      0.114338    0.115894  \n",
       "50%      0.123833    0.121716  \n",
       "75%      0.133808    0.128731  \n",
       "max      0.160532    0.157097  "
      ]
     },
     "execution_count": 3,
     "metadata": {},
     "output_type": "execute_result"
    }
   ],
   "source": [
    "dfs['Double'].describe()"
   ]
  },
  {
   "cell_type": "code",
   "execution_count": null,
   "metadata": {
    "collapsed": true,
    "deletable": true,
    "editable": true
   },
   "outputs": [],
   "source": []
  }
 ],
 "metadata": {
  "kernelspec": {
   "display_name": "Python 3",
   "language": "python",
   "name": "python3"
  },
  "language_info": {
   "codemirror_mode": {
    "name": "ipython",
    "version": 3
   },
   "file_extension": ".py",
   "mimetype": "text/x-python",
   "name": "python",
   "nbconvert_exporter": "python",
   "pygments_lexer": "ipython3",
   "version": "3.5.1"
  }
 },
 "nbformat": 4,
 "nbformat_minor": 2
}
